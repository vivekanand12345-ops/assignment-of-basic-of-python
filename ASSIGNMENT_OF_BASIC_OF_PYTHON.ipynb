{
  "nbformat": 4,
  "nbformat_minor": 0,
  "metadata": {
    "colab": {
      "provenance": []
    },
    "kernelspec": {
      "name": "python3",
      "display_name": "Python 3"
    },
    "language_info": {
      "name": "python"
    }
  },
  "cells": [
    {
      "cell_type": "code",
      "execution_count": null,
      "metadata": {
        "id": "d3oWSo4mS37p"
      },
      "outputs": [],
      "source": []
    },
    {
      "cell_type": "markdown",
      "source": [
        "1.what is python and why is it popular ?\n",
        "\n",
        "\n",
        "Ans=It is a programming language and it uses in various task in web development and data analysis etc\n",
        "\n",
        ".it contains large number of libaries.\n",
        "\n",
        ".it is widely used programming language.\n",
        "\n",
        ".it is easy to learn and write.\n",
        "\n",
        ".it contains large number of third party domains.\n",
        "\n",
        "2.What is an interpreter in python?\n",
        "\n",
        "Ans=it is program which execute code in python.\n",
        "\n",
        "3.what are pre-defined keywords in python?\n",
        "\n",
        "Ans=It is reserved words in python which has special meaning.\n",
        "\n",
        "4.can keywords be used as variables names?\n",
        "Ans=No,because they have predefined meaning.\n",
        "\n",
        "5.What is mutability in python ?\n",
        "\n",
        "Ans=The datatypes which can be modified after creation.\n",
        "\n",
        "6.why are lists mutable, but tuples are immutable?\n",
        "\n",
        "Ans=Because list allows modification after creation but tuples do not allow modification .\n",
        "\n",
        "7.what is the difference between ==and is operators in python?\n",
        "\n",
        "Ans>== operators check whether two variables contain same data.\n",
        "\n",
        "is operator check whether two variable contain same memory location.\n",
        "\n",
        "8.what are logical operators in python?\n",
        "\n",
        "Ans=it used to combine conditional statement.\n",
        "\n",
        "9.what is type casting in python ?\n",
        "\n",
        "Ans =it used to converting one data  type into another data type.\n",
        "\n",
        "10.what is the difference between implicit and explicit type casting?\n",
        "\n",
        "Ans=Implicit casting is automatically done by python while explicit casting is done manually using function .\n",
        "\n",
        "11.What is the purpose of conditional statements in python?\n",
        "\n",
        "Ans=it allow the program to execute different code blocks based on conditions.\n",
        "\n",
        "12.How does the elif statement work?\n",
        "\n",
        "Ans=it is used in multiple condition checks .if the if condition is false python execute elif.\n",
        "\n",
        "13.What is the difference between for and while loops?\n",
        "\n",
        "Ans=For loops execute on sequences in which we know it ends in proper sequence.\n",
        "while loops continue as long as condition is true.\n",
        "\n",
        "\n",
        "14.Describe a scenario where a while loop is more suitable than a for loop?\n",
        "\n",
        "Ans=A while loop is better when the number of iteration is unknown.\n",
        "example\n",
        "\n"
      ],
      "metadata": {
        "id": "QPke_NWoTGpj"
      }
    },
    {
      "cell_type": "code",
      "source": [
        "n=0\n",
        "while n<5:\n",
        "  print(n)\n",
        "  n += 1\n",
        ""
      ],
      "metadata": {
        "colab": {
          "base_uri": "https://localhost:8080/"
        },
        "id": "W8jbFWZYga-X",
        "outputId": "007f914c-c1c7-4368-a959-78db71b2908c"
      },
      "execution_count": 1,
      "outputs": [
        {
          "output_type": "stream",
          "name": "stdout",
          "text": [
            "0\n",
            "1\n",
            "2\n",
            "3\n",
            "4\n"
          ]
        }
      ]
    },
    {
      "cell_type": "markdown",
      "source": [
        "PRACTICAL QUESTION AND SOLUTIONS\n"
      ],
      "metadata": {
        "id": "NyDGqaiShRFn"
      }
    },
    {
      "cell_type": "markdown",
      "source": [],
      "metadata": {
        "id": "wT65FiBbhnIk"
      }
    },
    {
      "cell_type": "markdown",
      "source": [
        "1.Write a python program to  print \"Hello, World\""
      ],
      "metadata": {
        "id": "bzHEzejchncD"
      }
    },
    {
      "cell_type": "code",
      "source": [
        "print(\"Hello,World!\")"
      ],
      "metadata": {
        "colab": {
          "base_uri": "https://localhost:8080/"
        },
        "id": "eNxZX4xwiE7U",
        "outputId": "bf4ce332-ee20-49d7-907b-aa707165e36f"
      },
      "execution_count": 2,
      "outputs": [
        {
          "output_type": "stream",
          "name": "stdout",
          "text": [
            "Hello,World!\n"
          ]
        }
      ]
    },
    {
      "cell_type": "markdown",
      "source": [
        "2.Write a python program that displays your name and age."
      ],
      "metadata": {
        "id": "lrhzzSpgidrZ"
      }
    },
    {
      "cell_type": "code",
      "source": [
        "name=\"vivekanand\"\n",
        "age=\"24\"\n",
        "print(\"Name:\",name)\n",
        "print(\"Age:\",age)"
      ],
      "metadata": {
        "colab": {
          "base_uri": "https://localhost:8080/"
        },
        "id": "Wnb1NUbojaig",
        "outputId": "6a1e7790-64a5-4aa3-f434-cc166c5055d3"
      },
      "execution_count": 3,
      "outputs": [
        {
          "output_type": "stream",
          "name": "stdout",
          "text": [
            "Name: vivekanand\n",
            "Age: 24\n"
          ]
        }
      ]
    },
    {
      "cell_type": "markdown",
      "source": [
        "3.write code to print all pre-defined keywords in python ."
      ],
      "metadata": {
        "id": "C55oDcSUkJZ5"
      }
    },
    {
      "cell_type": "code",
      "source": [
        "import keyword\n",
        "print(keyword.kwlist)"
      ],
      "metadata": {
        "colab": {
          "base_uri": "https://localhost:8080/"
        },
        "id": "5QKtnrt6kinD",
        "outputId": "0e351703-1268-4e16-a308-8d80303929fe"
      },
      "execution_count": 4,
      "outputs": [
        {
          "output_type": "stream",
          "name": "stdout",
          "text": [
            "['False', 'None', 'True', 'and', 'as', 'assert', 'async', 'await', 'break', 'class', 'continue', 'def', 'del', 'elif', 'else', 'except', 'finally', 'for', 'from', 'global', 'if', 'import', 'in', 'is', 'lambda', 'nonlocal', 'not', 'or', 'pass', 'raise', 'return', 'try', 'while', 'with', 'yield']\n"
          ]
        }
      ]
    },
    {
      "cell_type": "markdown",
      "source": [
        "4.write a program to check if a given word is a python keyword"
      ],
      "metadata": {
        "id": "bMg12PN-k0p3"
      }
    },
    {
      "cell_type": "code",
      "source": [
        "import keyword\n",
        "word = input(\"enter a word:\")\n",
        "print(keyword.iskeyword(word))"
      ],
      "metadata": {
        "colab": {
          "base_uri": "https://localhost:8080/"
        },
        "id": "vMuo-UyUlx6O",
        "outputId": "60e163f6-91f1-4e2e-f727-919954ca0822"
      },
      "execution_count": 7,
      "outputs": [
        {
          "output_type": "stream",
          "name": "stdout",
          "text": [
            "enter a word:vivekanand\n",
            "False\n"
          ]
        }
      ]
    },
    {
      "cell_type": "markdown",
      "source": [
        "5. Create a list and tuple in python and show how modification differs."
      ],
      "metadata": {
        "id": "r_aKReofmsiS"
      }
    },
    {
      "cell_type": "code",
      "source": [
        "my_list = [1, 2, 3]\n",
        "my_list[0] = 10\n",
        "print(my_list)\n",
        "\n",
        "my_tuple = (1, 2, 3)"
      ],
      "metadata": {
        "colab": {
          "base_uri": "https://localhost:8080/"
        },
        "id": "lu4yMphGm-bc",
        "outputId": "bbeb6d43-c177-4e45-f2c5-29e06b0342ac"
      },
      "execution_count": 8,
      "outputs": [
        {
          "output_type": "stream",
          "name": "stdout",
          "text": [
            "[10, 2, 3]\n"
          ]
        }
      ]
    },
    {
      "cell_type": "markdown",
      "source": [
        "6. Write a funcation to demonstrate mutable and immutable arguments."
      ],
      "metadata": {
        "id": "u2_Rj7BYnd34"
      }
    },
    {
      "cell_type": "code",
      "source": [
        "#def modify_list(lst):\n",
        "  #lst.append(4)\n",
        "\n",
        "  #def modify_string(s):\n",
        "    #s = \"new string\"\n",
        "\n",
        "  #my_list = [1, 2, 3]\n",
        "  #modify_list(my_list)\n",
        "  #print(my_list)\n",
        "\n",
        "  #my_string = \"Hello\"\n",
        "  #modify_string(my_string)\n",
        "  #print(my_string)\n",
        "  #def modify_string(s)\n",
        "  #s = \"new string\"\n",
        "\n",
        "  #my_list = [1, 2, 3]\n",
        "  #modify_list(my_list)\n",
        "  #print(my_list)\n",
        "\n",
        "  #my_string = \"Hello\"\n",
        "  #modify_string(my_string)\n",
        "  #print(my_string)"
      ],
      "metadata": {
        "id": "5TG9zFM6n1jd"
      },
      "execution_count": 13,
      "outputs": []
    },
    {
      "cell_type": "markdown",
      "source": [
        "7. Write a program to demonstrate logical oprators."
      ],
      "metadata": {
        "id": "k8TDEVSFpn_Q"
      }
    },
    {
      "cell_type": "code",
      "source": [
        "a, b = ('true', 'False')\n",
        "#print(a and b)\n",
        "#print(a or b)\n",
        "#print(not a)"
      ],
      "metadata": {
        "id": "XwxiJamYp5kS"
      },
      "execution_count": 16,
      "outputs": []
    },
    {
      "cell_type": "markdown",
      "source": [
        "8. Convert user input to different types."
      ],
      "metadata": {
        "id": "pnL_UI05rEFP"
      }
    },
    {
      "cell_type": "code",
      "source": [
        "num = input(\"enter a number: \")\n",
        "int_num = int(num)\n",
        "float_num = float(num)\n",
        "bool_num = bool(num)\n",
        "print(int_num, float_num, bool_num)"
      ],
      "metadata": {
        "colab": {
          "base_uri": "https://localhost:8080/"
        },
        "id": "VQ-Ky4kprMOe",
        "outputId": "8f199ace-d989-4054-ac32-0a9513f10251"
      },
      "execution_count": 17,
      "outputs": [
        {
          "output_type": "stream",
          "name": "stdout",
          "text": [
            "enter a number: 5\n",
            "5 5.0 True\n"
          ]
        }
      ]
    },
    {
      "cell_type": "markdown",
      "source": [
        "9. Write code for type casting with lists."
      ],
      "metadata": {
        "id": "GT3Ijdbdr_nn"
      }
    },
    {
      "cell_type": "code",
      "source": [
        "my_list = [\"1\", \"2\", \"3\"]\n",
        "int_list = [int(i)for i in my_list]\n",
        "print(int_list)"
      ],
      "metadata": {
        "colab": {
          "base_uri": "https://localhost:8080/"
        },
        "id": "jTxH4MQ-sPcZ",
        "outputId": "3e828389-d6a7-4039-a52b-4130a235f301"
      },
      "execution_count": 18,
      "outputs": [
        {
          "output_type": "stream",
          "name": "stdout",
          "text": [
            "[1, 2, 3]\n"
          ]
        }
      ]
    },
    {
      "cell_type": "markdown",
      "source": [
        "10. Check if a number is positive, negative, or zero."
      ],
      "metadata": {
        "id": "i9fKzj9fsuoI"
      }
    },
    {
      "cell_type": "code",
      "source": [
        "num = int(input(\"enter a number: \"))\n",
        "#if num > 0:\n",
        "  #print(\"positive\")\n",
        "  #elif num < 0:\n",
        "    #print(\"negative\")\n",
        "    #else:\n",
        "      #print(\"zero\")"
      ],
      "metadata": {
        "colab": {
          "base_uri": "https://localhost:8080/"
        },
        "id": "v-ikweQls7Hd",
        "outputId": "0c73b0bc-db72-4974-d169-9956a3e98264"
      },
      "execution_count": 20,
      "outputs": [
        {
          "name": "stdout",
          "output_type": "stream",
          "text": [
            "enter a number: 6\n"
          ]
        }
      ]
    },
    {
      "cell_type": "markdown",
      "source": [
        "11. Write a for loop to print numbers from 1 to 10."
      ],
      "metadata": {
        "id": "tgjSDM3Ct6_5"
      }
    },
    {
      "cell_type": "code",
      "source": [
        "for i in range(1, 11):\n",
        "  print(i)"
      ],
      "metadata": {
        "colab": {
          "base_uri": "https://localhost:8080/"
        },
        "id": "qFbFtb_zuIP9",
        "outputId": "5fba505b-42c1-4542-d4f0-e293c54f9551"
      },
      "execution_count": 21,
      "outputs": [
        {
          "output_type": "stream",
          "name": "stdout",
          "text": [
            "1\n",
            "2\n",
            "3\n",
            "4\n",
            "5\n",
            "6\n",
            "7\n",
            "8\n",
            "9\n",
            "10\n"
          ]
        }
      ]
    },
    {
      "cell_type": "markdown",
      "source": [
        "12. Write a python program to find the sum of numbers from 1 to 50."
      ],
      "metadata": {
        "id": "LoxbtVXuuWdT"
      }
    },
    {
      "cell_type": "code",
      "source": [
        "print(sum(range(1, 51)))"
      ],
      "metadata": {
        "colab": {
          "base_uri": "https://localhost:8080/"
        },
        "id": "y1lDqTNGuzEX",
        "outputId": "9e97a1f0-0e53-4341-e13a-ec01d8724a7f"
      },
      "execution_count": 22,
      "outputs": [
        {
          "output_type": "stream",
          "name": "stdout",
          "text": [
            "1275\n"
          ]
        }
      ]
    },
    {
      "cell_type": "markdown",
      "source": [
        "13. Write a program to reverse a string using a while loop."
      ],
      "metadata": {
        "id": "DouVqmfTu6HB"
      }
    },
    {
      "cell_type": "code",
      "source": [
        "s = \"python\"\n",
        "reversed_s = \"\"\n",
        "i = len(s) - 1\n",
        "while i >= 0:\n",
        "  reversed_s += s[i]\n",
        "  i -= 1\n",
        "  print(reversed_s)"
      ],
      "metadata": {
        "colab": {
          "base_uri": "https://localhost:8080/"
        },
        "id": "3FkyIJhUvIaN",
        "outputId": "1ff645bb-f1dc-4db3-f6c0-f2945e2955a2"
      },
      "execution_count": 23,
      "outputs": [
        {
          "output_type": "stream",
          "name": "stdout",
          "text": [
            "n\n",
            "no\n",
            "noh\n",
            "noht\n",
            "nohty\n",
            "nohtyp\n"
          ]
        }
      ]
    },
    {
      "cell_type": "markdown",
      "source": [
        "14. Write a python program to calculate the factorial using a while loop."
      ],
      "metadata": {
        "id": "gNhyLo6qv30K"
      }
    },
    {
      "cell_type": "code",
      "source": [
        "num = int(input(\"enter a number: \"))\n",
        "factorial = 1\n",
        "while num > 0:\n",
        "  factorial *= num\n",
        "  num -= 1\n",
        "  print(\"factorial:\", factorial)"
      ],
      "metadata": {
        "colab": {
          "base_uri": "https://localhost:8080/"
        },
        "id": "V-4x5FkYwOZl",
        "outputId": "22c3cd9b-30c3-4b02-9d99-402952de2653"
      },
      "execution_count": 24,
      "outputs": [
        {
          "output_type": "stream",
          "name": "stdout",
          "text": [
            "enter a number: 6\n",
            "factorial: 6\n",
            "factorial: 30\n",
            "factorial: 120\n",
            "factorial: 360\n",
            "factorial: 720\n",
            "factorial: 720\n"
          ]
        }
      ]
    }
  ]
}